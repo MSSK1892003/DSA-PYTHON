{
 "cells": [
  {
   "cell_type": "code",
   "execution_count": 1,
   "metadata": {},
   "outputs": [
    {
     "name": "stdout",
     "output_type": "stream",
     "text": [
      "even numbers [20, 40, 60, 80, 100]\n"
     ]
    }
   ],
   "source": [
    "num=[11,20,31,40,51,60,71,80,91,100]\n",
    "def even(x):\n",
    "    return x%2==0\n",
    "even=list(filter(even,num))\n",
    "print(\"even numbers\",even)"
   ]
  },
  {
   "cell_type": "markdown",
   "metadata": {},
   "source": [
    "lambda"
   ]
  },
  {
   "cell_type": "code",
   "execution_count": 3,
   "metadata": {},
   "outputs": [
    {
     "name": "stdout",
     "output_type": "stream",
     "text": [
      "[20, 40, 60, 80, 100]\n"
     ]
    }
   ],
   "source": [
    "evenn=list(filter(lambda x:x%2==0,num))\n",
    "print(evenn)"
   ]
  },
  {
   "cell_type": "code",
   "execution_count": 2,
   "metadata": {},
   "outputs": [
    {
     "name": "stdout",
     "output_type": "stream",
     "text": [
      "[11, 31, 51, 71, 91]\n"
     ]
    }
   ],
   "source": [
    "def odd(x):\n",
    "    return x%2!=0\n",
    "odd=list(filter(odd,num))\n",
    "print(odd)"
   ]
  },
  {
   "cell_type": "code",
   "execution_count": 4,
   "metadata": {},
   "outputs": [
    {
     "name": "stdout",
     "output_type": "stream",
     "text": [
      "[11, 31, 51, 71, 91]\n"
     ]
    }
   ],
   "source": [
    "odde=list(filter(lambda x:x%2!=0,num))\n",
    "print(odde)"
   ]
  },
  {
   "cell_type": "code",
   "execution_count": 5,
   "metadata": {},
   "outputs": [
    {
     "name": "stdout",
     "output_type": "stream",
     "text": [
      "sorted ['kota', 'vizag', 'jaipur', 'Mysore', 'Ballari', 'raichur']\n"
     ]
    }
   ],
   "source": [
    "city=['jaipur','Ballari','kota','Mysore','raichur','vizag']\n",
    "def length(city):\n",
    "    return len(city)\n",
    "sort=sorted(city,key=length)\n",
    "print(\"sorted\",sort)"
   ]
  },
  {
   "cell_type": "markdown",
   "metadata": {},
   "source": [
    "lambda"
   ]
  },
  {
   "cell_type": "code",
   "execution_count": 7,
   "metadata": {},
   "outputs": [
    {
     "name": "stdout",
     "output_type": "stream",
     "text": [
      "['Ballari', 'raichur', 'jaipur', 'Mysore', 'vizag', 'kota']\n"
     ]
    }
   ],
   "source": [
    "city=['jaipur','Ballari','kota','Mysore','raichur','vizag']\n",
    "sort=sorted(city,key=lambda x:len(x),reverse=True)\n",
    "print(sort)"
   ]
  },
  {
   "cell_type": "code",
   "execution_count": 1,
   "metadata": {},
   "outputs": [
    {
     "name": "stdout",
     "output_type": "stream",
     "text": [
      "['kota', 'vizag', 'jaipur', 'Mysore', 'Ballari', 'raichur']\n"
     ]
    }
   ],
   "source": [
    "city=['jaipur','Ballari','kota','Mysore','raichur','vizag']\n",
    "sort=sorted(city,key=lambda x:len(x))\n",
    "print(sort)"
   ]
  }
 ],
 "metadata": {
  "kernelspec": {
   "display_name": "Python 3",
   "language": "python",
   "name": "python3"
  },
  "language_info": {
   "codemirror_mode": {
    "name": "ipython",
    "version": 3
   },
   "file_extension": ".py",
   "mimetype": "text/x-python",
   "name": "python",
   "nbconvert_exporter": "python",
   "pygments_lexer": "ipython3",
   "version": "3.11.9"
  }
 },
 "nbformat": 4,
 "nbformat_minor": 2
}
