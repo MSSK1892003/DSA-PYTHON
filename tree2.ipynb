{
 "cells": [
  {
   "cell_type": "markdown",
   "metadata": {},
   "source": [
    "stack practice\n"
   ]
  },
  {
   "cell_type": "code",
   "execution_count": 9,
   "metadata": {},
   "outputs": [
    {
     "name": "stdout",
     "output_type": "stream",
     "text": [
      "[40, 30, 20, 10]\n",
      "40\n",
      "30\n",
      "[20, 10]\n",
      "[50, 60, 20, 10]\n"
     ]
    }
   ],
   "source": [
    "class stack:\n",
    "    def __init__(self):\n",
    "        self.values=[]\n",
    "    def push(self,x):\n",
    "        self.values=[x]+self.values\n",
    "    def pop(self):\n",
    "        return self.values.pop(0)\n",
    "s=stack()\n",
    "s.push(10)\n",
    "s.push(20)\n",
    "s.push(30)\n",
    "s.push(40)\n",
    "\n",
    "print(s.values)\n",
    "print(s.pop())\n",
    "print(s.pop())\n",
    "print(s.values)\n",
    "s.push(60)\n",
    "s.push(50)\n",
    "print(s.values)"
   ]
  },
  {
   "cell_type": "markdown",
   "metadata": {},
   "source": [
    "Queue"
   ]
  },
  {
   "cell_type": "code",
   "execution_count": 12,
   "metadata": {},
   "outputs": [
    {
     "name": "stdout",
     "output_type": "stream",
     "text": [
      "[40, 30, 20]\n",
      "40\n"
     ]
    }
   ],
   "source": [
    "class queue:\n",
    "    def __init__(self):\n",
    "        self.values=[]\n",
    "    def enqueue (self,x):\n",
    "        self.values.append(x)\n",
    "    def dequeue(self):\n",
    "        front=self.values[0]\n",
    "        self.values=self.values[1:]\n",
    "        return front\n",
    "q=queue()\n",
    "q.enqueue(40)\n",
    "q.enqueue(30)\n",
    "q.enqueue(20)\n",
    "print(q.values)\n",
    "print(q.dequeue())\n"
   ]
  }
 ],
 "metadata": {
  "kernelspec": {
   "display_name": "Python 3",
   "language": "python",
   "name": "python3"
  },
  "language_info": {
   "codemirror_mode": {
    "name": "ipython",
    "version": 3
   },
   "file_extension": ".py",
   "mimetype": "text/x-python",
   "name": "python",
   "nbconvert_exporter": "python",
   "pygments_lexer": "ipython3",
   "version": "3.11.9"
  }
 },
 "nbformat": 4,
 "nbformat_minor": 2
}
