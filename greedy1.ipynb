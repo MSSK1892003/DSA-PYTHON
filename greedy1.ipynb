{
 "cells": [
  {
   "cell_type": "code",
   "execution_count": 1,
   "metadata": {},
   "outputs": [
    {
     "name": "stdout",
     "output_type": "stream",
     "text": [
      "{0: 5.0, 1: 3.3333333333333335, 2: 3.0, 3: 1.75, 4: 8.0, 5: 3.0, 6: 2.0}\n"
     ]
    }
   ],
   "source": [
    "p=[5,10,15,7,8,9,4]\n",
    "w=[1,3,5,4,1,3,2]\n",
    "\n",
    "p_w={}\n",
    "for i in range(len(p)):\n",
    "    p_w[i]=p[i]/w[i]\n",
    "print(p_w)"
   ]
  },
  {
   "cell_type": "code",
   "execution_count": 2,
   "metadata": {},
   "outputs": [
    {
     "name": "stdout",
     "output_type": "stream",
     "text": [
      "{0: (20, 2), 1: (40, 1), 2: (10, 2), 3: (30, 3), 4: (50, 1)}\n"
     ]
    }
   ],
   "source": [
    "p=[20,40,10,30,50]\n",
    "D=[2,1,2,3,1]\n",
    "job={}\n",
    "for i in range(len(p)):\n",
    "    job[i]=p[i],D[i]\n",
    "print(job)\n"
   ]
  },
  {
   "cell_type": "code",
   "execution_count": 10,
   "metadata": {},
   "outputs": [
    {
     "name": "stdout",
     "output_type": "stream",
     "text": [
      "[1, 3, 5, 4, 1, 3, 2]\n",
      "[[], [1], [3], [1, 3], [5], [1, 5], [3, 5], [1, 3, 5], [4], [1, 4], [3, 4], [1, 3, 4], [5, 4], [1, 5, 4], [3, 5, 4], [1, 3, 5, 4], [1], [1, 1], [3, 1], [1, 3, 1], [5, 1], [1, 5, 1], [3, 5, 1], [1, 3, 5, 1], [4, 1], [1, 4, 1], [3, 4, 1], [1, 3, 4, 1], [5, 4, 1], [1, 5, 4, 1], [3, 5, 4, 1], [1, 3, 5, 4, 1], [3], [1, 3], [3, 3], [1, 3, 3], [5, 3], [1, 5, 3], [3, 5, 3], [1, 3, 5, 3], [4, 3], [1, 4, 3], [3, 4, 3], [1, 3, 4, 3], [5, 4, 3], [1, 5, 4, 3], [3, 5, 4, 3], [1, 3, 5, 4, 3], [1, 3], [1, 1, 3], [3, 1, 3], [1, 3, 1, 3], [5, 1, 3], [1, 5, 1, 3], [3, 5, 1, 3], [1, 3, 5, 1, 3], [4, 1, 3], [1, 4, 1, 3], [3, 4, 1, 3], [1, 3, 4, 1, 3], [5, 4, 1, 3], [1, 5, 4, 1, 3], [3, 5, 4, 1, 3], [1, 3, 5, 4, 1, 3], [2], [1, 2], [3, 2], [1, 3, 2], [5, 2], [1, 5, 2], [3, 5, 2], [1, 3, 5, 2], [4, 2], [1, 4, 2], [3, 4, 2], [1, 3, 4, 2], [5, 4, 2], [1, 5, 4, 2], [3, 5, 4, 2], [1, 3, 5, 4, 2], [1, 2], [1, 1, 2], [3, 1, 2], [1, 3, 1, 2], [5, 1, 2], [1, 5, 1, 2], [3, 5, 1, 2], [1, 3, 5, 1, 2], [4, 1, 2], [1, 4, 1, 2], [3, 4, 1, 2], [1, 3, 4, 1, 2], [5, 4, 1, 2], [1, 5, 4, 1, 2], [3, 5, 4, 1, 2], [1, 3, 5, 4, 1, 2], [3, 2], [1, 3, 2], [3, 3, 2], [1, 3, 3, 2], [5, 3, 2], [1, 5, 3, 2], [3, 5, 3, 2], [1, 3, 5, 3, 2], [4, 3, 2], [1, 4, 3, 2], [3, 4, 3, 2], [1, 3, 4, 3, 2], [5, 4, 3, 2], [1, 5, 4, 3, 2], [3, 5, 4, 3, 2], [1, 3, 5, 4, 3, 2], [1, 3, 2], [1, 1, 3, 2], [3, 1, 3, 2], [1, 3, 1, 3, 2], [5, 1, 3, 2], [1, 5, 1, 3, 2], [3, 5, 1, 3, 2], [1, 3, 5, 1, 3, 2], [4, 1, 3, 2], [1, 4, 1, 3, 2], [3, 4, 1, 3, 2], [1, 3, 4, 1, 3, 2], [5, 4, 1, 3, 2], [1, 5, 4, 1, 3, 2], [3, 5, 4, 1, 3, 2], [1, 3, 5, 4, 1, 3, 2]] "
     ]
    }
   ],
   "source": [
    "# def sum():\n",
    "    \n",
    "#     p=[20,40,10,30,50]\n",
    "#     D=[2,1,2,3,1]\n",
    "#     job={}\n",
    "#     for i in range(len(p)):\n",
    "#        job[i]=p[i],D[i]\n",
    "#     print(job)\n",
    "def set(n):\n",
    "    res=[[]]\n",
    "    for elem in n:\n",
    "        res+=[sub +[elem] for sub in res]\n",
    "    return res\n",
    "n=[1,3,5,4,1,3,2]\n",
    "print(n)\n",
    "print(set(n))\n",
    "\n",
    "    "
   ]
  },
  {
   "cell_type": "code",
   "execution_count": 14,
   "metadata": {},
   "outputs": [
    {
     "name": "stdout",
     "output_type": "stream",
     "text": [
      "51\n"
     ]
    }
   ],
   "source": [
    "def calc_max(p,w,c,n):\n",
    "    if n==0 or c==0:\n",
    "        return 0\n",
    "    if (w[n-1]>c):\n",
    "        return calc_max(p,w,c,n-1)\n",
    "    else:\n",
    "        return max(p[n-1]+calc_max(p,w,c-w[n-1],n-1),calc_max(p,w,c,n-1))\n",
    "    \n",
    "    \n",
    "    \n",
    "p=[5,10,15,7,8,9,4]\n",
    "w=[1,3,5,4,1,3,2]\n",
    "c=15\n",
    "n=len(p)\n",
    "print(calc_max(p,w,c,n))"
   ]
  },
  {
   "cell_type": "code",
   "execution_count": null,
   "metadata": {},
   "outputs": [],
   "source": [
    "# Recursion+data storing"
   ]
  },
  {
   "cell_type": "code",
   "execution_count": 24,
   "metadata": {},
   "outputs": [
    {
     "name": "stdout",
     "output_type": "stream",
     "text": [
      "[5, 10, 15, 7, 8, 9, 4]\n",
      "[1, 3, 5, 4, 1, 3, 2]\n",
      "{0: 5.0, 1: 3.3333333333333335, 2: 3.0, 3: 1.75, 4: 8.0, 5: 3.0, 6: 2.0}\n",
      "[[-1, -1, -1, -1, -1, -1, -1, -1, -1, -1, -1, -1, -1, -1, -1, -1], [-1, -1, -1, -1, -1, -1, -1, -1, -1, -1, -1, -1, -1, -1, -1, -1], [-1, -1, -1, -1, -1, -1, -1, -1, -1, -1, -1, -1, -1, -1, -1, -1], [-1, -1, -1, -1, -1, -1, -1, -1, -1, -1, -1, -1, -1, -1, -1, -1], [-1, -1, -1, -1, -1, -1, -1, -1, -1, -1, -1, -1, -1, -1, -1, -1], [-1, -1, -1, -1, -1, -1, -1, -1, -1, -1, -1, -1, -1, -1, -1, -1], [-1, -1, -1, -1, -1, -1, -1, -1, -1, -1, -1, -1, -1, -1, -1, -1], [-1, -1, -1, -1, -1, -1, -1, -1, -1, -1, -1, -1, -1, -1, -1, -1]]\n",
      "51\n"
     ]
    }
   ],
   "source": [
    "def p_w():\n",
    "    p_w={}\n",
    "    for i in range(len(p)):\n",
    "        p_w[i]=p[i]/w[i]\n",
    "    print (p_w)\n",
    "\n",
    "\n",
    "def calc_max(p,w,c,n):\n",
    "    if n==0 or c==0:\n",
    "        return 0\n",
    "    if (w[n-1]>c):\n",
    "        return calc_max(p,w,c,n-1)\n",
    "    else:\n",
    "        return max(p[n-1]+calc_max(p,w,c-w[n-1],n-1),calc_max(p,w,c,n-1))\n",
    "    \n",
    "    \n",
    "    \n",
    "p=[5,10,15,7,8,9,4]\n",
    "w=[1,3,5,4,1,3,2]\n",
    "print(p)\n",
    "print(w)\n",
    "p_w()\n",
    "c=15\n",
    "n=len(p)\n",
    "Dp=[[-1 for i in range  (c+1)] for j in range(n+1)]\n",
    "print(Dp)\n",
    "\n",
    "print(calc_max(p,w,c,n))"
   ]
  },
  {
   "cell_type": "code",
   "execution_count": 6,
   "metadata": {},
   "outputs": [
    {
     "name": "stdout",
     "output_type": "stream",
     "text": [
      "51\n",
      "[[0, 0, 0, 0, 0, 0, 0, 0, 0, 0, 0, 0, 0, 0, 0, 0], [0, 5, 5, 5, 5, 5, 5, 5, 5, 5, 5, 5, 5, 5, 5, 5], [0, 5, 5, 10, 15, 15, 15, 15, 15, 15, 15, 15, 15, 15, 15, 15], [0, 0, 0, 0, 0, 15, 20, 20, 25, 30, 30, 30, 30, 30, 30, 30], [0, 0, 0, 0, 0, 0, 0, 0, 0, 30, 30, 30, 32, 37, 37, 37], [0, 0, 0, 0, 0, 0, 0, 0, 0, 0, 38, 0, 38, 40, 0, 45], [0, 0, 0, 0, 0, 0, 0, 0, 0, 0, 0, 0, 0, 47, 0, 47], [0, 0, 0, 0, 0, 0, 0, 0, 0, 0, 0, 0, 0, 0, 0, 51]]\n"
     ]
    }
   ],
   "source": [
    "def calc_max(p,w,c,n):\n",
    "    if n==0 or c==0:\n",
    "        return 0\n",
    "    if Dp[n][c]!=0:\n",
    "        return Dp[n][c]\n",
    "    if (w[n-1]<=c):\n",
    "        Dp[n][c]= max(p[n-1]+calc_max(p,w,c-w[n-1],n-1),calc_max(p,w,c,n-1))\n",
    "        return Dp[n][c]\n",
    "    else:\n",
    "        Dp[n][c]=calc_max(p,w,c,n-1)\n",
    "        return Dp[n][c]\n",
    "p=[5,10,15,7,8,9,4]\n",
    "w=[1,3,5,4,1,3,2]\n",
    "c=15\n",
    "n=len(p)\n",
    "Dp=[[0 for i in range  (c+1)] for j in range(n+1)]\n",
    "\n",
    "print(calc_max(p,w,c,n))\n",
    "print(Dp)"
   ]
  },
  {
   "cell_type": "code",
   "execution_count": 7,
   "metadata": {},
   "outputs": [
    {
     "ename": "IndexError",
     "evalue": "list index out of range",
     "output_type": "error",
     "traceback": [
      "\u001b[1;31m---------------------------------------------------------------------------\u001b[0m",
      "\u001b[1;31mIndexError\u001b[0m                                Traceback (most recent call last)",
      "Cell \u001b[1;32mIn[7], line 23\u001b[0m\n\u001b[0;32m     20\u001b[0m n\u001b[38;5;241m=\u001b[39m\u001b[38;5;28mlen\u001b[39m(p)\n\u001b[0;32m     21\u001b[0m Dp\u001b[38;5;241m=\u001b[39m[[\u001b[38;5;241m-\u001b[39m\u001b[38;5;241m1\u001b[39m \u001b[38;5;28;01mfor\u001b[39;00m i \u001b[38;5;129;01min\u001b[39;00m \u001b[38;5;28mrange\u001b[39m  (c\u001b[38;5;241m+\u001b[39m\u001b[38;5;241m1\u001b[39m)] \u001b[38;5;28;01mfor\u001b[39;00m j \u001b[38;5;129;01min\u001b[39;00m \u001b[38;5;28mrange\u001b[39m(n\u001b[38;5;241m+\u001b[39m\u001b[38;5;241m1\u001b[39m)]\n\u001b[1;32m---> 23\u001b[0m \u001b[38;5;28mprint\u001b[39m(\u001b[43mmax_calc\u001b[49m\u001b[43m(\u001b[49m\u001b[43mp\u001b[49m\u001b[43m,\u001b[49m\u001b[43mw\u001b[49m\u001b[43m,\u001b[49m\u001b[43mc\u001b[49m\u001b[43m,\u001b[49m\u001b[43mn\u001b[49m\u001b[43m)\u001b[49m)\n\u001b[0;32m     24\u001b[0m \u001b[38;5;28mprint\u001b[39m(Dp)\n",
      "Cell \u001b[1;32mIn[7], line 9\u001b[0m, in \u001b[0;36mmax_calc\u001b[1;34m(p, w, n, c)\u001b[0m\n\u001b[0;32m      7\u001b[0m     \u001b[38;5;28;01mreturn\u001b[39;00m \u001b[38;5;241m0\u001b[39m\n\u001b[0;32m      8\u001b[0m \u001b[38;5;28;01melse\u001b[39;00m:\n\u001b[1;32m----> 9\u001b[0m     Dp[i][c]\u001b[38;5;241m=\u001b[39m\u001b[38;5;28mmax\u001b[39m(Dp[i\u001b[38;5;241m-\u001b[39m\u001b[38;5;241m1\u001b[39m][c],\u001b[43mp\u001b[49m\u001b[43m[\u001b[49m\u001b[43mi\u001b[49m\u001b[38;5;241;43m-\u001b[39;49m\u001b[38;5;241;43m1\u001b[39;49m\u001b[43m]\u001b[49m\u001b[38;5;241m+\u001b[39mDp[i\u001b[38;5;241m-\u001b[39m\u001b[38;5;241m1\u001b[39m][c\u001b[38;5;241m-\u001b[39mw[i\u001b[38;5;241m-\u001b[39m\u001b[38;5;241m1\u001b[39m]])\n",
      "\u001b[1;31mIndexError\u001b[0m: list index out of range"
     ]
    }
   ],
   "source": [
    "def max_calc(p,w,n,c):\n",
    "    \n",
    "    \n",
    "    for i in range(1,n+1):\n",
    "        for j in range(1,c+1):\n",
    "            if n==0 or c==0:\n",
    "                return 0\n",
    "            else:\n",
    "                Dp[i][c]=max(Dp[i-1][c],p[i-1]+Dp[i-1][c-w[i-1]])\n",
    "    # if n==0 or c==0:\n",
    "    #     return 0\n",
    "    # if (w[n-1]<=c):\n",
    "    #     return max_calc(p,w,c,n-1)\n",
    "    # else:\n",
    "    #     return max(Dp[i-1][c],p[i-1]+Dp[i-1][c-w[i-1]])\n",
    "    \n",
    "p=[5,10,15,7,8,9,4]\n",
    "w=[1,3,5,4,1,3,2]\n",
    "c=15\n",
    "n=len(p)\n",
    "Dp=[[-1 for i in range  (c+1)] for j in range(n+1)]\n",
    "\n",
    "print(max_calc(p,w,c,n))\n",
    "print(Dp)"
   ]
  }
 ],
 "metadata": {
  "kernelspec": {
   "display_name": "Python 3",
   "language": "python",
   "name": "python3"
  },
  "language_info": {
   "codemirror_mode": {
    "name": "ipython",
    "version": 3
   },
   "file_extension": ".py",
   "mimetype": "text/x-python",
   "name": "python",
   "nbconvert_exporter": "python",
   "pygments_lexer": "ipython3",
   "version": "3.11.9"
  }
 },
 "nbformat": 4,
 "nbformat_minor": 2
}
